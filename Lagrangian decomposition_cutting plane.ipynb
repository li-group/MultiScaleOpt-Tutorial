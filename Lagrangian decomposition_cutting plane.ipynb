{
 "cells": [
  {
   "cell_type": "markdown",
   "id": "d265bbf8-3b2d-4785-a356-90eb3ac17b4e",
   "metadata": {},
   "source": [
    "# Lagangian Decomposition with cutting plane"
   ]
  },
  {
   "cell_type": "code",
   "execution_count": 1,
   "id": "7c9c1ac9-d02c-4932-911f-4eef9c708d9d",
   "metadata": {},
   "outputs": [],
   "source": [
    "from pyomo.environ import *\n",
    "from pyomo.opt import SolverFactory\n",
    "import itertools\n",
    "\n",
    "import pandas as pd\n",
    "import numpy as np\n",
    "\n",
    "def fsmodel():\n",
    "    model = ConcreteModel()\n",
    "    \n",
    "    # 5D Array\n",
    "    model.gen = Set(initialize=[1, 2])  # Generators\n",
    "    model.Periods = Set(initialize=[1, 2, 3])  # Time periods\n",
    "    model.days = Set(initialize=[1, 2, 3])  # Demand scenario for time period 1\n",
    "    \n",
    "    # Total Scenarios\n",
    "    \n",
    "    file_path = 'newgenexp.xlsx'\n",
    "    sheet_name = 'DIC'  # Specify the sheet name or sheet number\n",
    "    \n",
    "    # Load the data into a pandas DataFrame\n",
    "    df = pd.read_excel(file_path, sheet_name=sheet_name)\n",
    "    c = {}\n",
    "    for i in range(0,df.shape[0]):\n",
    "        c[df['Generator'][i]] = df['Ammortized Fixed operating cost($)'][i]\n",
    "    model.c = Param(model.gen, initialize=c)  # Fixed cost per unit capacity of generator j\n",
    "    \n",
    "    sheet_name = 'FIXOP'  # Specify the sheet name or sheet number\n",
    "    \n",
    "    # Load the data into a pandas DataFrame\n",
    "    df = pd.read_excel(file_path, sheet_name=sheet_name)\n",
    "    f = {}\n",
    "    for i in range(0,df.shape[0]):\n",
    "        f[(df['Generator'][i],df['Period'][i])] = df['FIXOP'][i]\n",
    "    model.f = Param(model.gen,model.Periods, initialize=f)  # Fixed cost per unit capacity of generator j\n",
    "    \n",
    "    sheet_name = 'Additional cost'  # Specify the sheet name or sheet number\n",
    "    \n",
    "    df = pd.read_excel(file_path, sheet_name=sheet_name)\n",
    "    g = {}\n",
    "    for i in range(0,df.shape[0]):\n",
    "        g[df['Day'][i]] = df['Cost'][i]\n",
    "    model.g = Param(model.days, initialize=g)\n",
    "    \n",
    "    \n",
    "    \n",
    "    d = {}\n",
    "    \n",
    "    sheet_name = 'Demand'\n",
    "    df = pd.read_excel(file_path, sheet_name=sheet_name)\n",
    "    for i in range(0,df.shape[0]):\n",
    "        d[df['Day'][i],df['Period'][i]]= df['Demand (KWh)'][i]\n",
    "        \n",
    "                           \n",
    "                   \n",
    "    model.d = Param(model.Periods,model.days, initialize=d)  # Fixed cost per unit capacity of generator j\n",
    "    \n",
    "                           \n",
    "       \n",
    "    a = {}    \n",
    "    sheet_name = 'Availability'\n",
    "    df = pd.read_excel(file_path, sheet_name=sheet_name)\n",
    "    for i in range(0,df.shape[0]):\n",
    "        a[df['Day'][i],df['Period'][i],df['Generator'][i]]= df['Availibility'][i]\n",
    "        \n",
    "                           \n",
    "    model.a = Param(model.Periods,model.days,model.gen, initialize=a)  # Fixed cost per unit capacity of generator j\n",
    "    \n",
    "    # Variables\n",
    "    model.x = Var(model.gen, domain=NonNegativeReals)  # Installed capacity of generator j\n",
    "    model.y = Var(model.days,model.Periods, model.gen, domain=NonNegativeReals)  # Operating level of generator j\n",
    "    model.y_purchased = Var(model.days,model.Periods,  domain=NonNegativeReals)  # Additional capacity purchased\n",
    "    # Objective function\n",
    "    def objective_rule(model):\n",
    "        fixed_cost = 3*sum(model.c[j] * model.x[j] for j in model.gen)\n",
    "        operating_cost = sum(sum(sum(model.f[j,i] * model.y[s,i, j] for j in model.gen) + model.g[s] * model.y_purchased[s,i] for i in model.Periods) for s in model.days)\n",
    "        return fixed_cost + operating_cost\n",
    "    \n",
    "    model.obj = Objective(rule=objective_rule, sense=minimize)\n",
    "    \n",
    "    # Constraints\n",
    "    #Constraint for fixing x values\n",
    "    \n",
    "\n",
    "    # Demand satisfaction constraints\n",
    "    def demand_satisfaction_rule(model, s,i):\n",
    "        return sum(model.y[s,i,j] for j in model.gen) + model.y_purchased[s,i] >= model.d[s,i]\n",
    "    model.demand_satisfaction_constraint = Constraint(model.days,model.Periods, rule=demand_satisfaction_rule)\n",
    "    \n",
    "    # Availability constraints\n",
    "    def availability_rule(model, s, i,gen):\n",
    "        return model.y[s,i,gen] <= model.a[s,i,gen] * model.x[gen]\n",
    "    model.availability_constraint = Constraint(model.days,model.Periods, model.gen, rule=availability_rule)\n",
    "    return model\n"
   ]
  },
  {
   "cell_type": "markdown",
   "id": "14c29b1c-806e-43a7-8c91-606f1c179ba9",
   "metadata": {},
   "source": [
    "## Subproblem\n",
    "We formulte the subproblems as follows:\n",
    "$$\n",
    " \\begin{align}\n",
    " D_1({\\nu}):= \\min \\quad &  \\sum_{j \\in \\set{J}}c_{j}x_{j} + \\sum_{i\\in \\set{I}}\\left(\\sum_{j \\in \\set{J}}\\left(f_{i,j}y_{i,j} \\right)+g_{1} \\tilde{y}_{i}\\right)+\\sum_{s \\in \\set{S},s \\neq 1} \\sum_{j}\\nu_{s,j}x_j &  \\\\\n",
    "\\text { s. t.} \\quad & x_j \\geq 0  \\quad \\forall j & \\\\\n",
    "& y_{i,j} \\leq a_{1,i,j}x_{j} \\quad \\forall\\: i \\in \\set{I},j \\in \\set{J},k \\in \\set{K} & \\\\\n",
    "        & \\sum_{j \\in \\set{J}}y_{i,j}+ \\tilde{y}_{i} \\geq d_{1,i}\\quad \\forall\\: i \\in \\set{I} & \\\\\n",
    "         & y_{i,j} \\geq 0 \\quad \\forall\\: i \\in \\set{I},j \\in \\set{J} & \\\\\n",
    "          &  \\tilde{y}_{i} \\geq 0 \\quad \\forall\\: i \\in \\set{I}, &  \n",
    "\\end{align}\n",
    "$$\n",
    "$$\n",
    "\\begin{align}\n",
    " D_{s \\in \\set{S},s \\neq 1}({\\nu}):= \\min \\quad &  \\sum_{j \\in \\set{J}}c_{j}x_{j} + \\sum_{i\\in \\set{I}}\\left(\\sum_{j \\in \\set{J}}\\left(f_{i,j}y_{i,j} \\right)+g_{s} \\tilde{y}_{i}\\right)-\\sum_{j}\\nu_{s,j}x_j &  \\\\\n",
    "\\text { s. t.} \\quad & x_j \\geq 0   \\quad \\forall j & \\\\\n",
    "& y_{i,j} \\leq a_{s,i,j}x_{j} \\quad \\forall\\: i \\in \\set{I},j \\in \\set{J},k \\in \\set{K} & \\\\\n",
    "        & \\sum_{j \\in \\set{J}}y_{i,j}+ \\tilde{y}_{i} \\geq d_{s,i}\\quad \\forall\\: i \\in \\set{I} & \\\\\n",
    "         & y_{i,j} \\geq 0 \\quad \\forall\\: i \\in \\set{I},j \\in \\set{J} & \\\\\n",
    "          &  \\tilde{y}_{i} \\geq 0 \\quad \\forall\\: i \\in \\set{I} &  \n",
    "\\end{align}\n",
    "$$"
   ]
  },
  {
   "cell_type": "code",
   "execution_count": 2,
   "id": "f8a0958a-aa7f-4ac3-aa9f-83c9760f1aff",
   "metadata": {},
   "outputs": [],
   "source": [
    "file_path = 'newgenexp.xlsx'\n",
    "sheet_name = 'FIXOP'  # Specify the sheet name or sheet number\n",
    "\n",
    "# Load the data into a pandas DataFrame\n",
    "df = pd.read_excel(file_path, sheet_name=sheet_name)\n",
    "f = {}\n",
    "for i in range(0,df.shape[0]):\n",
    "    f[(df['Generator'][i],df['Period'][i])] = df['FIXOP'][i]\n",
    "\n",
    "sheet_name = 'Additional cost'  # Specify the sheet name or sheet number\n",
    "\n",
    "df = pd.read_excel(file_path, sheet_name=sheet_name)\n",
    "g = {}\n",
    "for i in range(0,df.shape[0]):\n",
    "    g[df['Day'][i]] = df['Cost'][i]\n",
    "\n",
    "dem = {}\n",
    "\n",
    "sheet_name = 'Demand'\n",
    "df = pd.read_excel(file_path, sheet_name=sheet_name)\n",
    "for i in range(0,df.shape[0]):\n",
    "    dem[df['Day'][i],df['Period'][i]]= df['Demand (KWh)'][i]\n",
    "    \n",
    "av = {}    \n",
    "sheet_name = 'Availability'\n",
    "df = pd.read_excel(file_path, sheet_name=sheet_name)\n",
    "for i in range(0,df.shape[0]):\n",
    "    av[df['Day'][i],df['Period'][i],df['Generator'][i]]= df['Availibility'][i]\n",
    "\n",
    "sheet_name = 'DIC'  # Specify the sheet name or sheet number\n",
    "\n",
    "# Load the data into a pandas DataFrame\n",
    "df = pd.read_excel(file_path, sheet_name=sheet_name)\n",
    "c = {}\n",
    "for i in range(0,df.shape[0]):\n",
    "    c[df['Generator'][i]] = df['Ammortized Fixed operating cost($)'][i]\n",
    "days = [1,2,3]\n",
    "periods = [1,2,3]\n",
    "gen = [1,2]    \n",
    "def subproblem_lag(s,nu,mu):\n",
    "    sp = ConcreteModel()\n",
    "    sp.gen = Set(initialize=[1, 2])  # Generators\n",
    "    sp.Periods = Set(initialize=[1, 2, 3])\n",
    "    sp.x = Var(sp.gen, domain=NonNegativeReals)\n",
    "    sp.y = Var(sp.Periods,sp.gen, domain=NonNegativeReals)  # Operating level of generator j\n",
    "    sp.y_purchased = Var(sp.Periods, domain=NonNegativeReals)  # Additional capacity purchased\n",
    "    if(s==1):\n",
    "        c_mod = [c[1]+nu[0]+mu[0],c[2]+nu[1]+mu[1]]\n",
    "    elif(s==2):\n",
    "        c_mod = [-nu[0]+c[1],-nu[1]+c[2]]\n",
    "    elif(s==3):\n",
    "        c_mod = [-mu[0]+c[1],-mu[1]+c[2]]\n",
    "    def objective_rule(model):\n",
    "        fixed_cost = 1*sum(c_mod[j-1] * model.x[j] for j in model.gen)\n",
    "        operating_cost = sum(sum(f[j,i] * model.y[i,j] for j in model.gen) + g[s] * model.y_purchased[i] for i in model.Periods)\n",
    "        return operating_cost+fixed_cost\n",
    "    \n",
    "    sp.obj = Objective(rule=objective_rule, sense=minimize)\n",
    "    \n",
    "    # Constraints\n",
    "    #Constraint for fixing x values\n",
    "    def up_bound(model, j):\n",
    "        return model.x[j] <=10**9\n",
    "    sp.up_bound_constraint = Constraint(sp.gen, rule=up_bound)\n",
    "\n",
    "    # Demand satisfaction constraints\n",
    "    def demand_satisfaction_rule(model, i):\n",
    "        return sum(model.y[i,j] for j in model.gen) + model.y_purchased[i] >=dem[s,i] \n",
    "    sp.demand_satisfaction_constraint = Constraint(sp.Periods, rule=demand_satisfaction_rule)\n",
    "    \n",
    "    # Availability constraints\n",
    "    def availability_rule(model, i, gen):\n",
    "        return model.y[i,gen]- av[s,i,gen] * model.x[gen] <= 0\n",
    "    sp.availability_constraint = Constraint(sp.Periods, sp.gen, rule=availability_rule)\n",
    "    return sp\n",
    "    \n",
    "    "
   ]
  },
  {
   "cell_type": "code",
   "execution_count": 3,
   "id": "72b73ffa-4a53-4928-87fe-cf64095df388",
   "metadata": {},
   "outputs": [],
   "source": [
    "#Heuristic\n",
    "def heuristic(xval):\n",
    "    if(xval==10**20):\n",
    "        return 10**20\n",
    "    model = fsmodel()\n",
    "    def cap_fix_rule(model, gen):\n",
    "        return model.x[gen] == xval[gen]\n",
    "    model.cap_fix_constraint = Constraint(model.gen, rule=cap_fix_rule)\n",
    "    opt = SolverFactory('gurobi')\n",
    "    results = opt.solve(model, tee=False)\n",
    "    \n",
    "    \n",
    "    #model.display()\n",
    "    if results.solver.termination_condition == TerminationCondition.infeasible:\n",
    "        return 10**20\n",
    "    return value(model.obj)"
   ]
  },
  {
   "cell_type": "markdown",
   "id": "c00535a6-de15-448f-b135-0c730ab68c8a",
   "metadata": {},
   "source": [
    "## Master Problem"
   ]
  },
  {
   "cell_type": "code",
   "execution_count": 4,
   "id": "821efb70-6983-4ec4-b295-bf3a0f0b1d1d",
   "metadata": {},
   "outputs": [],
   "source": [
    "\n",
    "\n",
    "#Master problem\n",
    "from pyomo.environ import *\n",
    "from pyomo.opt import SolverFactory\n",
    "import itertools\n",
    "import numpy as np\n",
    "import pandas as pd\n",
    "\n",
    "mp = ConcreteModel()\n",
    "\n",
    "# 5D Array\n",
    "mp.gen = Set(initialize=[1, 2])  # Generators\n",
    "mp.days = Set(initialize=[1, 2, 3])  # Demand scenario for time period 1\n",
    "\n",
    "# Total Scenarios\n",
    "file_path = 'newgenexp.xlsx'\n",
    "sheet_name = 'DIC'  # Specify the sheet name or sheet number\n",
    "\n",
    "# Load the data into a pandas DataFrame\n",
    "df = pd.read_excel(file_path, sheet_name=sheet_name)\n",
    "c = {}\n",
    "for i in range(0,df.shape[0]):\n",
    "    c[df['Generator'][i]] = df['Ammortized Fixed operating cost($)'][i]\n",
    "mp.c = Param(mp.gen, initialize=c)  # Fixed cost per unit capacity of generator j\n",
    "\n",
    "sheet_name = 'FIXOP'  # Specify the sheet name or sheet number\n",
    "\n",
    "# Variables\n",
    "mp.eta = Var(mp.days)\n",
    "mp.mu = Var(mp.gen)  # Installed capacity of generator j\n",
    "mp.nu = Var(mp.gen)  # Operating level of generator j\n",
    "mp.constraint_base = Constraint(mp.gen, rule=lambda mp, j:mp.mu[j]>=-10**6)\n",
    "mp.constraint_base1 = Constraint(mp.gen, rule=lambda mp,j:mp.mu[j]<=10**6)\n",
    "mp.constraint_base2 = Constraint(mp.gen, rule=lambda mp, j:mp.nu[j]>=-10**6)\n",
    "mp.constraint_base3 = Constraint(mp.gen, rule=lambda mp,j:mp.nu[j]<=10**6)\n",
    "mp.con_extra = ConstraintList()\n",
    "# Objective function\n",
    "def objective_rule(model):\n",
    "    return sum(model.eta[s] for s in mp.days)\n",
    "\n",
    "mp.obj = Objective(rule=objective_rule, sense=maximize)\n",
    "#mp.obj = Objective(rule=objective_rule, sense=minimize)\n",
    "\n"
   ]
  },
  {
   "cell_type": "markdown",
   "id": "ce9717aa-f9f0-4774-8fda-de6e60aebbf4",
   "metadata": {},
   "source": [
    "## Implementing Lagrangian decomposition with cutting planes\n",
    "We solve the master problem and subproblems iteratively, with cutting added to the master problem based on the subproblem"
   ]
  },
  {
   "cell_type": "code",
   "execution_count": 5,
   "id": "0b5098f1-0f1e-4634-b382-f335845beab5",
   "metadata": {},
   "outputs": [
    {
     "name": "stdout",
     "output_type": "stream",
     "text": [
      "LB: 287525.1258585858\n",
      "UB: 363166.54000000004\n",
      "LB: 287525.1258585858\n",
      "UB: 363166.54000000004\n",
      "LB: 287525.1258585858\n",
      "UB: 363166.54000000004\n",
      "LB: 287525.1258585858\n",
      "UB: 363166.54000000004\n",
      "LB: 287525.1258585858\n",
      "UB: 359290.31371428573\n",
      "LB: 349350.15575696825\n",
      "UB: 359290.31371428573\n",
      "LB: 357408.9747915041\n",
      "UB: 359290.31371428573\n",
      "LB: 357408.9747915041\n",
      "UB: 359290.31371428573\n",
      "LB: 357408.97890909086\n",
      "UB: 359290.31371428573\n",
      "LB: 357408.97890909086\n",
      "UB: 359290.31371428573\n",
      "LB: 357408.97890909086\n",
      "UB: 359290.31371428573\n"
     ]
    }
   ],
   "source": [
    "UB = float('inf')\n",
    "LB = float('-inf')\n",
    "LB_list = []\n",
    "UB_list = []\n",
    "nu = np.array([0.0,0.0])\n",
    "mu = np.array([0.0,0.0])\n",
    "tol = 10**(-6)\n",
    "Best_sol = [0.0,0.0]\n",
    "opt = SolverFactory('gurobi',tee=False)\n",
    "while(1):\n",
    "    z_ld = 0\n",
    "    xval_full = {}\n",
    "    sub_obj_val = {}\n",
    "    sub_obj_val_true = {}\n",
    "    for s in days:\n",
    "        sp = subproblem_lag(s,nu,mu)\n",
    "        opt.solve(sp)\n",
    "        sub_obj_val[s] = sp.obj()\n",
    "        z_ld = z_ld+sp.obj()\n",
    "        xval = {1:sp.x[1](),2:sp.x[2]()}\n",
    "        xval_full[s,1] = sp.x[1]()\n",
    "        xval_full[s,2] = sp.x[2]()\n",
    "        sub_obj_val_true[s]= sum(c[j] * sp.x[j]() for j in sp.gen)+ sum(sum(f[j,i] * sp.y[i,j]() for j in sp.gen) + g[s] * sp.y_purchased[i]() for i in sp.Periods)\n",
    "        #sub_obj_val_true[k]=heuristic(xval)\n",
    "        #print(heuristic(xval))\n",
    "        #print(xval)\n",
    "        if(heuristic(xval)<UB):\n",
    "            UB = heuristic(xval)\n",
    "            Best_sol = xval\n",
    "    LB = max(LB,z_ld)\n",
    "    LB_list.append(LB)\n",
    "    UB_list.append(UB)\n",
    "    \n",
    "    #print(sub_obj_val)\n",
    "    #print(xval_full)\n",
    "    mp.con_extra.add(mp.eta[1]<=sub_obj_val_true[1]+sum(mp.nu[i]*xval_full[1,i] for i in gen)+sum(mp.mu[i]*xval_full[1,i] for i in gen))\n",
    "    mp.con_extra.add(mp.eta[2]<=sub_obj_val_true[2]-sum(mp.nu[i]*xval_full[2,i] for i in gen))\n",
    "    mp.con_extra.add(mp.eta[3]<=sub_obj_val_true[3]-sum(mp.mu[i]*xval_full[3,i] for i in gen))\n",
    "    \n",
    "    results = opt.solve(mp)\n",
    "    if(mp.nu[1]()==nu[0] and mp.nu[2]()==nu[1] and mp.mu[1]()==mu[0] and mp.mu[2]()==mu[1]):\n",
    "        break\n",
    "    #print(xval_full)\n",
    "    #mp.pprint()\n",
    "    print('LB:',LB)\n",
    "    print('UB:',UB)\n",
    "    #print(results.solver.termination_condition)\n",
    "    #if(results.solver.termination_condition == TerminationCondition.optimal):\n",
    "    nu[0] = mp.nu[1]()\n",
    "    nu[1] = mp.nu[2]()\n",
    "    mu[0] = mp.mu[1]()\n",
    "    mu[1] = mp.mu[2]()\n",
    "    \n",
    "    \n",
    "\n",
    "    "
   ]
  },
  {
   "cell_type": "code",
   "execution_count": 6,
   "id": "d0dd0710-066d-4c50-894a-edcdefaeaa58",
   "metadata": {},
   "outputs": [
    {
     "data": {
      "text/plain": [
       "359290.31371428573"
      ]
     },
     "execution_count": 6,
     "metadata": {},
     "output_type": "execute_result"
    }
   ],
   "source": [
    "UB"
   ]
  },
  {
   "cell_type": "code",
   "execution_count": 7,
   "id": "8c7d4249-f5e2-41f4-a373-2485af6bbe85",
   "metadata": {},
   "outputs": [
    {
     "data": {
      "text/plain": [
       "359290.31371428573"
      ]
     },
     "execution_count": 7,
     "metadata": {},
     "output_type": "execute_result"
    }
   ],
   "source": [
    "heuristic(Best_sol)"
   ]
  },
  {
   "cell_type": "code",
   "execution_count": 8,
   "id": "6b157de8-ef52-4029-bcfd-71cb74266d33",
   "metadata": {},
   "outputs": [
    {
     "data": {
      "text/plain": [
       "12"
      ]
     },
     "execution_count": 8,
     "metadata": {},
     "output_type": "execute_result"
    }
   ],
   "source": [
    "len(LB_list)"
   ]
  },
  {
   "cell_type": "code",
   "execution_count": 9,
   "id": "4c9eed2f-b6de-41f5-89e1-439fe019a483",
   "metadata": {},
   "outputs": [
    {
     "data": {
      "image/png": "[encoded data removed]",
      "text/plain": [
       "<Figure size 640x480 with 1 Axes>"
      ]
     },
     "metadata": {},
     "output_type": "display_data"
    }
   ],
   "source": [
    "import matplotlib.pyplot as plt\n",
    "import numpy as np\n",
    "\n",
    "\n",
    "plt.plot(range(1,len(LB_list)+1),np.array(LB_list)/10**6,range(1,len(LB_list)+1),np.array(UB_list)/10**6)\n",
    "plt.title('Bounds at the end of each iteration')\n",
    "plt.xlabel('Iteration')\n",
    "plt.ylabel('Bound ($M)')\n",
    "plt.legend(['Lower bound (master problem)','Upper bound'])\n",
    "plt.savefig('Lag_cp.pdf')\n",
    "plt.show()"
   ]
  },
  {
   "cell_type": "code",
   "execution_count": 10,
   "id": "5bf59405-a792-4b1c-9d72-613d32ef171a",
   "metadata": {},
   "outputs": [
    {
     "data": {
      "text/plain": [
       "{1: 1876.2082857142855, 2: 1619.0285714285715}"
      ]
     },
     "execution_count": 10,
     "metadata": {},
     "output_type": "execute_result"
    }
   ],
   "source": [
    "Best_sol"
   ]
  }
 ],
 "metadata": {
  "kernelspec": {
   "display_name": "Python 3 (ipykernel)",
   "language": "python",
   "name": "python3"
  },
  "language_info": {
   "codemirror_mode": {
    "name": "ipython",
    "version": 3
   },
   "file_extension": ".py",
   "mimetype": "text/x-python",
   "name": "python",
   "nbconvert_exporter": "python",
   "pygments_lexer": "ipython3",
   "version": "3.12.2"
  }
 },
 "nbformat": 4,
 "nbformat_minor": 5
}
